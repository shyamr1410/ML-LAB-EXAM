{
 "cells": [
  {
   "cell_type": "code",
   "execution_count": 1,
   "id": "b831e2ae",
   "metadata": {},
   "outputs": [
    {
     "data": {
      "text/html": [
       "<div>\n",
       "<style scoped>\n",
       "    .dataframe tbody tr th:only-of-type {\n",
       "        vertical-align: middle;\n",
       "    }\n",
       "\n",
       "    .dataframe tbody tr th {\n",
       "        vertical-align: top;\n",
       "    }\n",
       "\n",
       "    .dataframe thead th {\n",
       "        text-align: right;\n",
       "    }\n",
       "</style>\n",
       "<table border=\"1\" class=\"dataframe\">\n",
       "  <thead>\n",
       "    <tr style=\"text-align: right;\">\n",
       "      <th></th>\n",
       "      <th>6.1101</th>\n",
       "      <th>17.592</th>\n",
       "    </tr>\n",
       "  </thead>\n",
       "  <tbody>\n",
       "    <tr>\n",
       "      <th>0</th>\n",
       "      <td>5.5277</td>\n",
       "      <td>9.13020</td>\n",
       "    </tr>\n",
       "    <tr>\n",
       "      <th>1</th>\n",
       "      <td>8.5186</td>\n",
       "      <td>13.66200</td>\n",
       "    </tr>\n",
       "    <tr>\n",
       "      <th>2</th>\n",
       "      <td>7.0032</td>\n",
       "      <td>11.85400</td>\n",
       "    </tr>\n",
       "    <tr>\n",
       "      <th>3</th>\n",
       "      <td>5.8598</td>\n",
       "      <td>6.82330</td>\n",
       "    </tr>\n",
       "    <tr>\n",
       "      <th>4</th>\n",
       "      <td>8.3829</td>\n",
       "      <td>11.88600</td>\n",
       "    </tr>\n",
       "    <tr>\n",
       "      <th>...</th>\n",
       "      <td>...</td>\n",
       "      <td>...</td>\n",
       "    </tr>\n",
       "    <tr>\n",
       "      <th>91</th>\n",
       "      <td>5.8707</td>\n",
       "      <td>7.20290</td>\n",
       "    </tr>\n",
       "    <tr>\n",
       "      <th>92</th>\n",
       "      <td>5.3054</td>\n",
       "      <td>1.98690</td>\n",
       "    </tr>\n",
       "    <tr>\n",
       "      <th>93</th>\n",
       "      <td>8.2934</td>\n",
       "      <td>0.14454</td>\n",
       "    </tr>\n",
       "    <tr>\n",
       "      <th>94</th>\n",
       "      <td>13.3940</td>\n",
       "      <td>9.05510</td>\n",
       "    </tr>\n",
       "    <tr>\n",
       "      <th>95</th>\n",
       "      <td>5.4369</td>\n",
       "      <td>0.61705</td>\n",
       "    </tr>\n",
       "  </tbody>\n",
       "</table>\n",
       "<p>96 rows × 2 columns</p>\n",
       "</div>"
      ],
      "text/plain": [
       "     6.1101    17.592\n",
       "0    5.5277   9.13020\n",
       "1    8.5186  13.66200\n",
       "2    7.0032  11.85400\n",
       "3    5.8598   6.82330\n",
       "4    8.3829  11.88600\n",
       "..      ...       ...\n",
       "91   5.8707   7.20290\n",
       "92   5.3054   1.98690\n",
       "93   8.2934   0.14454\n",
       "94  13.3940   9.05510\n",
       "95   5.4369   0.61705\n",
       "\n",
       "[96 rows x 2 columns]"
      ]
     },
     "execution_count": 1,
     "metadata": {},
     "output_type": "execute_result"
    }
   ],
   "source": [
    "import pandas as pd\n",
    "import matplotlib.pyplot as plt\n",
    "\n",
    "df = pd.read_csv(\"/home/exam/Downloads/Food-Truck(For Linear Regression Program).csv\")\n",
    "df"
   ]
  },
  {
   "cell_type": "code",
   "execution_count": 2,
   "id": "e809fa67",
   "metadata": {},
   "outputs": [
    {
     "data": {
      "image/png": "[encoded data removed]",
      "text/plain": [
       "<Figure size 432x288 with 1 Axes>"
      ]
     },
     "metadata": {
      "needs_background": "light"
     },
     "output_type": "display_data"
    }
   ],
   "source": [
    "df.plot(x=\"6.1101\", y=\"17.592\", style=\"o\")\n",
    "plt.show()"
   ]
  },
  {
   "cell_type": "code",
   "execution_count": 3,
   "id": "a2afd496",
   "metadata": {},
   "outputs": [
    {
     "name": "stdout",
     "output_type": "stream",
     "text": [
      "8.181151041666668 5.716709375000001\n"
     ]
    }
   ],
   "source": [
    "x_mean = df[\"6.1101\"].mean()\n",
    "y_mean = df[\"17.592\"].mean()\n",
    "print(x_mean,y_mean)"
   ]
  },
  {
   "cell_type": "code",
   "execution_count": 4,
   "id": "7c395f81",
   "metadata": {},
   "outputs": [
    {
     "data": {
      "text/html": [
       "<div>\n",
       "<style scoped>\n",
       "    .dataframe tbody tr th:only-of-type {\n",
       "        vertical-align: middle;\n",
       "    }\n",
       "\n",
       "    .dataframe tbody tr th {\n",
       "        vertical-align: top;\n",
       "    }\n",
       "\n",
       "    .dataframe thead th {\n",
       "        text-align: right;\n",
       "    }\n",
       "</style>\n",
       "<table border=\"1\" class=\"dataframe\">\n",
       "  <thead>\n",
       "    <tr style=\"text-align: right;\">\n",
       "      <th></th>\n",
       "      <th>6.1101</th>\n",
       "      <th>17.592</th>\n",
       "      <th>x</th>\n",
       "      <th>y</th>\n",
       "      <th>x*y</th>\n",
       "      <th>x^2</th>\n",
       "      <th>y^2</th>\n",
       "    </tr>\n",
       "  </thead>\n",
       "  <tbody>\n",
       "    <tr>\n",
       "      <th>0</th>\n",
       "      <td>5.5277</td>\n",
       "      <td>9.13020</td>\n",
       "      <td>-2.653451</td>\n",
       "      <td>3.413491</td>\n",
       "      <td>-9.057530</td>\n",
       "      <td>7.040802</td>\n",
       "      <td>11.651918</td>\n",
       "    </tr>\n",
       "    <tr>\n",
       "      <th>1</th>\n",
       "      <td>8.5186</td>\n",
       "      <td>13.66200</td>\n",
       "      <td>0.337449</td>\n",
       "      <td>7.945291</td>\n",
       "      <td>2.681130</td>\n",
       "      <td>0.113872</td>\n",
       "      <td>63.127643</td>\n",
       "    </tr>\n",
       "    <tr>\n",
       "      <th>2</th>\n",
       "      <td>7.0032</td>\n",
       "      <td>11.85400</td>\n",
       "      <td>-1.177951</td>\n",
       "      <td>6.137291</td>\n",
       "      <td>-7.229428</td>\n",
       "      <td>1.387569</td>\n",
       "      <td>37.666336</td>\n",
       "    </tr>\n",
       "    <tr>\n",
       "      <th>3</th>\n",
       "      <td>5.8598</td>\n",
       "      <td>6.82330</td>\n",
       "      <td>-2.321351</td>\n",
       "      <td>1.106591</td>\n",
       "      <td>-2.568785</td>\n",
       "      <td>5.388671</td>\n",
       "      <td>1.224543</td>\n",
       "    </tr>\n",
       "    <tr>\n",
       "      <th>4</th>\n",
       "      <td>8.3829</td>\n",
       "      <td>11.88600</td>\n",
       "      <td>0.201749</td>\n",
       "      <td>6.169291</td>\n",
       "      <td>1.244648</td>\n",
       "      <td>0.040703</td>\n",
       "      <td>38.060147</td>\n",
       "    </tr>\n",
       "    <tr>\n",
       "      <th>...</th>\n",
       "      <td>...</td>\n",
       "      <td>...</td>\n",
       "      <td>...</td>\n",
       "      <td>...</td>\n",
       "      <td>...</td>\n",
       "      <td>...</td>\n",
       "      <td>...</td>\n",
       "    </tr>\n",
       "    <tr>\n",
       "      <th>91</th>\n",
       "      <td>5.8707</td>\n",
       "      <td>7.20290</td>\n",
       "      <td>-2.310451</td>\n",
       "      <td>1.486191</td>\n",
       "      <td>-3.433771</td>\n",
       "      <td>5.338184</td>\n",
       "      <td>2.208763</td>\n",
       "    </tr>\n",
       "    <tr>\n",
       "      <th>92</th>\n",
       "      <td>5.3054</td>\n",
       "      <td>1.98690</td>\n",
       "      <td>-2.875751</td>\n",
       "      <td>-3.729809</td>\n",
       "      <td>10.726003</td>\n",
       "      <td>8.269944</td>\n",
       "      <td>13.911478</td>\n",
       "    </tr>\n",
       "    <tr>\n",
       "      <th>93</th>\n",
       "      <td>8.2934</td>\n",
       "      <td>0.14454</td>\n",
       "      <td>0.112249</td>\n",
       "      <td>-5.572169</td>\n",
       "      <td>-0.625470</td>\n",
       "      <td>0.012600</td>\n",
       "      <td>31.049072</td>\n",
       "    </tr>\n",
       "    <tr>\n",
       "      <th>94</th>\n",
       "      <td>13.3940</td>\n",
       "      <td>9.05510</td>\n",
       "      <td>5.212849</td>\n",
       "      <td>3.338391</td>\n",
       "      <td>17.402526</td>\n",
       "      <td>27.173794</td>\n",
       "      <td>11.144852</td>\n",
       "    </tr>\n",
       "    <tr>\n",
       "      <th>95</th>\n",
       "      <td>5.4369</td>\n",
       "      <td>0.61705</td>\n",
       "      <td>-2.744251</td>\n",
       "      <td>-5.099659</td>\n",
       "      <td>13.994746</td>\n",
       "      <td>7.530914</td>\n",
       "      <td>26.006526</td>\n",
       "    </tr>\n",
       "  </tbody>\n",
       "</table>\n",
       "<p>96 rows × 7 columns</p>\n",
       "</div>"
      ],
      "text/plain": [
       "     6.1101    17.592         x         y        x*y        x^2        y^2\n",
       "0    5.5277   9.13020 -2.653451  3.413491  -9.057530   7.040802  11.651918\n",
       "1    8.5186  13.66200  0.337449  7.945291   2.681130   0.113872  63.127643\n",
       "2    7.0032  11.85400 -1.177951  6.137291  -7.229428   1.387569  37.666336\n",
       "3    5.8598   6.82330 -2.321351  1.106591  -2.568785   5.388671   1.224543\n",
       "4    8.3829  11.88600  0.201749  6.169291   1.244648   0.040703  38.060147\n",
       "..      ...       ...       ...       ...        ...        ...        ...\n",
       "91   5.8707   7.20290 -2.310451  1.486191  -3.433771   5.338184   2.208763\n",
       "92   5.3054   1.98690 -2.875751 -3.729809  10.726003   8.269944  13.911478\n",
       "93   8.2934   0.14454  0.112249 -5.572169  -0.625470   0.012600  31.049072\n",
       "94  13.3940   9.05510  5.212849  3.338391  17.402526  27.173794  11.144852\n",
       "95   5.4369   0.61705 -2.744251 -5.099659  13.994746   7.530914  26.006526\n",
       "\n",
       "[96 rows x 7 columns]"
      ]
     },
     "execution_count": 4,
     "metadata": {},
     "output_type": "execute_result"
    }
   ],
   "source": [
    "df[\"x\"] = df[\"6.1101\"] - x_mean\n",
    "df[\"y\"] = df[\"17.592\"] - y_mean\n",
    "df[\"x*y\"] = df[\"x\"] * df[\"y\"]\n",
    "df[\"x^2\"] = df[\"x\"]**2\n",
    "df[\"y^2\"] = df[\"y\"]**2\n",
    "df"
   ]
  },
  {
   "cell_type": "code",
   "execution_count": 5,
   "id": "cb53bd9e",
   "metadata": {},
   "outputs": [
    {
     "name": "stdout",
     "output_type": "stream",
     "text": [
      "1739.5603117330625 1433.4508245398956 2775.2783647179626\n"
     ]
    }
   ],
   "source": [
    "summation_x_y = df[\"x*y\"].sum()\n",
    "summation_x_squared = df[\"x^2\"].sum()\n",
    "summation_y_squared = df[\"y^2\"].sum()\n",
    "print(summation_x_y, summation_x_squared, summation_y_squared)"
   ]
  },
  {
   "cell_type": "code",
   "execution_count": 6,
   "id": "e1afb2e7",
   "metadata": {},
   "outputs": [
    {
     "data": {
      "text/plain": [
       "0.8721572919685902"
      ]
     },
     "execution_count": 6,
     "metadata": {},
     "output_type": "execute_result"
    }
   ],
   "source": [
    "correlation = summation_x_y / (summation_x_squared * summation_y_squared)**0.5\n",
    "correlation"
   ]
  },
  {
   "cell_type": "code",
   "execution_count": 7,
   "id": "1273e6c4",
   "metadata": {},
   "outputs": [],
   "source": [
    "def getMean(num):\n",
    " if len(num) == 0:\n",
    "  return None\n",
    " else:\n",
    "  sum = 0\n",
    " for i in num:\n",
    "  sum += i\n",
    " avg = sum/len(num)\n",
    " return avg"
   ]
  },
  {
   "cell_type": "code",
   "execution_count": 8,
   "id": "9c49373a",
   "metadata": {},
   "outputs": [],
   "source": [
    "def getStandardDeviation(num):\n",
    " if len(num) == 0:\n",
    "  return 0\n",
    " else:\n",
    "  mean = getMean(num)\n",
    " std_deviation = 0\n",
    " for i in num:\n",
    "  std_deviation += (i - mean)**2\n",
    " return (std_deviation/len(num))**0.5"
   ]
  },
  {
   "cell_type": "code",
   "execution_count": 9,
   "id": "2472902d",
   "metadata": {},
   "outputs": [
    {
     "name": "stdout",
     "output_type": "stream",
     "text": [
      "3.8641660707441887 5.37672294548257\n"
     ]
    }
   ],
   "source": [
    "std_deviation_x = getStandardDeviation(df[\"x\"].tolist())\n",
    "std_deviation_y = getStandardDeviation(df[\"y\"].tolist())\n",
    "print(std_deviation_x, std_deviation_y)"
   ]
  },
  {
   "cell_type": "code",
   "execution_count": 10,
   "id": "e7e57bc1",
   "metadata": {},
   "outputs": [
    {
     "data": {
      "text/plain": [
       "1.2135472539083578"
      ]
     },
     "execution_count": 10,
     "metadata": {},
     "output_type": "execute_result"
    }
   ],
   "source": [
    "m = correlation * (std_deviation_y / std_deviation_x)\n",
    "m"
   ]
  },
  {
   "cell_type": "code",
   "execution_count": 11,
   "id": "ff99fbef",
   "metadata": {},
   "outputs": [
    {
     "data": {
      "text/plain": [
       "-4.211504005424086"
      ]
     },
     "execution_count": 11,
     "metadata": {},
     "output_type": "execute_result"
    }
   ],
   "source": [
    "c = df[\"17.592\"].mean() - m * df[\"6.1101\"].mean()\n",
    "c"
   ]
  },
  {
   "cell_type": "code",
   "execution_count": 12,
   "id": "c8d535a0",
   "metadata": {},
   "outputs": [
    {
     "data": {
      "text/html": [
       "<div>\n",
       "<style scoped>\n",
       "    .dataframe tbody tr th:only-of-type {\n",
       "        vertical-align: middle;\n",
       "    }\n",
       "\n",
       "    .dataframe tbody tr th {\n",
       "        vertical-align: top;\n",
       "    }\n",
       "\n",
       "    .dataframe thead th {\n",
       "        text-align: right;\n",
       "    }\n",
       "</style>\n",
       "<table border=\"1\" class=\"dataframe\">\n",
       "  <thead>\n",
       "    <tr style=\"text-align: right;\">\n",
       "      <th></th>\n",
       "      <th>6.1101</th>\n",
       "      <th>17.592</th>\n",
       "      <th>x</th>\n",
       "      <th>y</th>\n",
       "      <th>x*y</th>\n",
       "      <th>x^2</th>\n",
       "      <th>y^2</th>\n",
       "      <th>y_predict</th>\n",
       "    </tr>\n",
       "  </thead>\n",
       "  <tbody>\n",
       "    <tr>\n",
       "      <th>0</th>\n",
       "      <td>5.5277</td>\n",
       "      <td>9.13020</td>\n",
       "      <td>-2.653451</td>\n",
       "      <td>3.413491</td>\n",
       "      <td>-9.057530</td>\n",
       "      <td>7.040802</td>\n",
       "      <td>11.651918</td>\n",
       "      <td>2.496621</td>\n",
       "    </tr>\n",
       "    <tr>\n",
       "      <th>1</th>\n",
       "      <td>8.5186</td>\n",
       "      <td>13.66200</td>\n",
       "      <td>0.337449</td>\n",
       "      <td>7.945291</td>\n",
       "      <td>2.681130</td>\n",
       "      <td>0.113872</td>\n",
       "      <td>63.127643</td>\n",
       "      <td>6.126220</td>\n",
       "    </tr>\n",
       "    <tr>\n",
       "      <th>2</th>\n",
       "      <td>7.0032</td>\n",
       "      <td>11.85400</td>\n",
       "      <td>-1.177951</td>\n",
       "      <td>6.137291</td>\n",
       "      <td>-7.229428</td>\n",
       "      <td>1.387569</td>\n",
       "      <td>37.666336</td>\n",
       "      <td>4.287210</td>\n",
       "    </tr>\n",
       "    <tr>\n",
       "      <th>3</th>\n",
       "      <td>5.8598</td>\n",
       "      <td>6.82330</td>\n",
       "      <td>-2.321351</td>\n",
       "      <td>1.106591</td>\n",
       "      <td>-2.568785</td>\n",
       "      <td>5.388671</td>\n",
       "      <td>1.224543</td>\n",
       "      <td>2.899640</td>\n",
       "    </tr>\n",
       "    <tr>\n",
       "      <th>4</th>\n",
       "      <td>8.3829</td>\n",
       "      <td>11.88600</td>\n",
       "      <td>0.201749</td>\n",
       "      <td>6.169291</td>\n",
       "      <td>1.244648</td>\n",
       "      <td>0.040703</td>\n",
       "      <td>38.060147</td>\n",
       "      <td>5.961541</td>\n",
       "    </tr>\n",
       "    <tr>\n",
       "      <th>...</th>\n",
       "      <td>...</td>\n",
       "      <td>...</td>\n",
       "      <td>...</td>\n",
       "      <td>...</td>\n",
       "      <td>...</td>\n",
       "      <td>...</td>\n",
       "      <td>...</td>\n",
       "      <td>...</td>\n",
       "    </tr>\n",
       "    <tr>\n",
       "      <th>91</th>\n",
       "      <td>5.8707</td>\n",
       "      <td>7.20290</td>\n",
       "      <td>-2.310451</td>\n",
       "      <td>1.486191</td>\n",
       "      <td>-3.433771</td>\n",
       "      <td>5.338184</td>\n",
       "      <td>2.208763</td>\n",
       "      <td>2.912868</td>\n",
       "    </tr>\n",
       "    <tr>\n",
       "      <th>92</th>\n",
       "      <td>5.3054</td>\n",
       "      <td>1.98690</td>\n",
       "      <td>-2.875751</td>\n",
       "      <td>-3.729809</td>\n",
       "      <td>10.726003</td>\n",
       "      <td>8.269944</td>\n",
       "      <td>13.911478</td>\n",
       "      <td>2.226850</td>\n",
       "    </tr>\n",
       "    <tr>\n",
       "      <th>93</th>\n",
       "      <td>8.2934</td>\n",
       "      <td>0.14454</td>\n",
       "      <td>0.112249</td>\n",
       "      <td>-5.572169</td>\n",
       "      <td>-0.625470</td>\n",
       "      <td>0.012600</td>\n",
       "      <td>31.049072</td>\n",
       "      <td>5.852929</td>\n",
       "    </tr>\n",
       "    <tr>\n",
       "      <th>94</th>\n",
       "      <td>13.3940</td>\n",
       "      <td>9.05510</td>\n",
       "      <td>5.212849</td>\n",
       "      <td>3.338391</td>\n",
       "      <td>17.402526</td>\n",
       "      <td>27.173794</td>\n",
       "      <td>11.144852</td>\n",
       "      <td>12.042748</td>\n",
       "    </tr>\n",
       "    <tr>\n",
       "      <th>95</th>\n",
       "      <td>5.4369</td>\n",
       "      <td>0.61705</td>\n",
       "      <td>-2.744251</td>\n",
       "      <td>-5.099659</td>\n",
       "      <td>13.994746</td>\n",
       "      <td>7.530914</td>\n",
       "      <td>26.006526</td>\n",
       "      <td>2.386431</td>\n",
       "    </tr>\n",
       "  </tbody>\n",
       "</table>\n",
       "<p>96 rows × 8 columns</p>\n",
       "</div>"
      ],
      "text/plain": [
       "     6.1101    17.592         x         y        x*y        x^2        y^2  \\\n",
       "0    5.5277   9.13020 -2.653451  3.413491  -9.057530   7.040802  11.651918   \n",
       "1    8.5186  13.66200  0.337449  7.945291   2.681130   0.113872  63.127643   \n",
       "2    7.0032  11.85400 -1.177951  6.137291  -7.229428   1.387569  37.666336   \n",
       "3    5.8598   6.82330 -2.321351  1.106591  -2.568785   5.388671   1.224543   \n",
       "4    8.3829  11.88600  0.201749  6.169291   1.244648   0.040703  38.060147   \n",
       "..      ...       ...       ...       ...        ...        ...        ...   \n",
       "91   5.8707   7.20290 -2.310451  1.486191  -3.433771   5.338184   2.208763   \n",
       "92   5.3054   1.98690 -2.875751 -3.729809  10.726003   8.269944  13.911478   \n",
       "93   8.2934   0.14454  0.112249 -5.572169  -0.625470   0.012600  31.049072   \n",
       "94  13.3940   9.05510  5.212849  3.338391  17.402526  27.173794  11.144852   \n",
       "95   5.4369   0.61705 -2.744251 -5.099659  13.994746   7.530914  26.006526   \n",
       "\n",
       "    y_predict  \n",
       "0    2.496621  \n",
       "1    6.126220  \n",
       "2    4.287210  \n",
       "3    2.899640  \n",
       "4    5.961541  \n",
       "..        ...  \n",
       "91   2.912868  \n",
       "92   2.226850  \n",
       "93   5.852929  \n",
       "94  12.042748  \n",
       "95   2.386431  \n",
       "\n",
       "[96 rows x 8 columns]"
      ]
     },
     "execution_count": 12,
     "metadata": {},
     "output_type": "execute_result"
    }
   ],
   "source": [
    "df[\"y_predict\"] = m * df[\"6.1101\"] + c\n",
    "df"
   ]
  },
  {
   "cell_type": "code",
   "execution_count": 13,
   "id": "fbb456bb",
   "metadata": {},
   "outputs": [
    {
     "data": {
      "image/png": "[encoded data removed]",
      "text/plain": [
       "<Figure size 432x288 with 1 Axes>"
      ]
     },
     "metadata": {
      "needs_background": "light"
     },
     "output_type": "display_data"
    }
   ],
   "source": [
    "plot1 = plt.scatter(df[\"6.1101\"], df[\"17.592\"])\n",
    "plot2 = plt.plot(df[\"6.1101\"], df[\"y_predict\"],color=\"red\")\n",
    "plt.show()"
   ]
  },
  {
   "cell_type": "code",
   "execution_count": 14,
   "id": "6af70882",
   "metadata": {},
   "outputs": [
    {
     "data": {
      "text/plain": [
       "2111.0386393116246"
      ]
     },
     "execution_count": 14,
     "metadata": {},
     "output_type": "execute_result"
    }
   ],
   "source": [
    "ssr = sum((df[\"y_predict\"]-y_mean)**2)\n",
    "ssr"
   ]
  },
  {
   "cell_type": "code",
   "execution_count": 15,
   "id": "31201bf7",
   "metadata": {},
   "outputs": [
    {
     "data": {
      "text/plain": [
       "664.2397254063369"
      ]
     },
     "execution_count": 15,
     "metadata": {},
     "output_type": "execute_result"
    }
   ],
   "source": [
    "sse = ((df[\"17.592\"]-df[\"y_predict\"])**2).sum()\n",
    "sse"
   ]
  },
  {
   "cell_type": "code",
   "execution_count": 16,
   "id": "e8a64ca5",
   "metadata": {},
   "outputs": [
    {
     "data": {
      "text/plain": [
       "2775.2783647179617"
      ]
     },
     "execution_count": 16,
     "metadata": {},
     "output_type": "execute_result"
    }
   ],
   "source": [
    "sst = sum((df[\"17.592\"]-y_mean)**2)\n",
    "sst"
   ]
  },
  {
   "cell_type": "code",
   "execution_count": 17,
   "id": "a9eeeefb",
   "metadata": {},
   "outputs": [
    {
     "data": {
      "text/plain": [
       "2775.2783647179613"
      ]
     },
     "execution_count": 17,
     "metadata": {},
     "output_type": "execute_result"
    }
   ],
   "source": [
    "tss_new =sse+ssr\n",
    "tss_new"
   ]
  },
  {
   "cell_type": "code",
   "execution_count": 18,
   "id": "ab9ee864",
   "metadata": {},
   "outputs": [
    {
     "data": {
      "text/plain": [
       "0.7606583419339846"
      ]
     },
     "execution_count": 18,
     "metadata": {},
     "output_type": "execute_result"
    }
   ],
   "source": [
    "correlation**2"
   ]
  },
  {
   "cell_type": "code",
   "execution_count": 19,
   "id": "b4858280",
   "metadata": {},
   "outputs": [
    {
     "data": {
      "text/plain": [
       "6.91916380631601"
      ]
     },
     "execution_count": 19,
     "metadata": {},
     "output_type": "execute_result"
    }
   ],
   "source": [
    "cost = sse/96\n",
    "cost"
   ]
  },
  {
   "cell_type": "code",
   "execution_count": null,
   "id": "988bf57e",
   "metadata": {},
   "outputs": [],
   "source": []
  }
 ],
 "metadata": {
  "kernelspec": {
   "display_name": "Python 3 (ipykernel)",
   "language": "python",
   "name": "python3"
  },
  "language_info": {
   "codemirror_mode": {
    "name": "ipython",
    "version": 3
   },
   "file_extension": ".py",
   "mimetype": "text/x-python",
   "name": "python",
   "nbconvert_exporter": "python",
   "pygments_lexer": "ipython3",
   "version": "3.10.6"
  }
 },
 "nbformat": 4,
 "nbformat_minor": 5
}
