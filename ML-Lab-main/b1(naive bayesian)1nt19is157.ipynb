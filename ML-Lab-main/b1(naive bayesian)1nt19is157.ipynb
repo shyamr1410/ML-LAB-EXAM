{
 "cells": [
  {
   "cell_type": "code",
   "execution_count": 1,
   "id": "f86a3f48",
   "metadata": {},
   "outputs": [],
   "source": [
    "import pandas as pd\n",
    "import numpy as np"
   ]
  },
  {
   "cell_type": "code",
   "execution_count": 4,
   "id": "92fa28af",
   "metadata": {},
   "outputs": [],
   "source": [
    "data = pd.read_csv(\"/home/exam/Downloads/covid.csv\")"
   ]
  },
  {
   "cell_type": "code",
   "execution_count": 5,
   "id": "d92fa998",
   "metadata": {},
   "outputs": [
    {
     "data": {
      "text/html": [
       "<div>\n",
       "<style scoped>\n",
       "    .dataframe tbody tr th:only-of-type {\n",
       "        vertical-align: middle;\n",
       "    }\n",
       "\n",
       "    .dataframe tbody tr th {\n",
       "        vertical-align: top;\n",
       "    }\n",
       "\n",
       "    .dataframe thead th {\n",
       "        text-align: right;\n",
       "    }\n",
       "</style>\n",
       "<table border=\"1\" class=\"dataframe\">\n",
       "  <thead>\n",
       "    <tr style=\"text-align: right;\">\n",
       "      <th></th>\n",
       "      <th>no</th>\n",
       "      <th>pc</th>\n",
       "      <th>wbc</th>\n",
       "      <th>mc</th>\n",
       "      <th>ast</th>\n",
       "      <th>bc</th>\n",
       "      <th>ldh</th>\n",
       "      <th>diagnosis</th>\n",
       "    </tr>\n",
       "  </thead>\n",
       "  <tbody>\n",
       "    <tr>\n",
       "      <th>0</th>\n",
       "      <td>1</td>\n",
       "      <td>Low</td>\n",
       "      <td>Low</td>\n",
       "      <td>Low</td>\n",
       "      <td>High</td>\n",
       "      <td>Normal</td>\n",
       "      <td>Normal</td>\n",
       "      <td>True</td>\n",
       "    </tr>\n",
       "    <tr>\n",
       "      <th>1</th>\n",
       "      <td>2</td>\n",
       "      <td>Low</td>\n",
       "      <td>Low</td>\n",
       "      <td>Normal</td>\n",
       "      <td>High</td>\n",
       "      <td>Normal</td>\n",
       "      <td>High</td>\n",
       "      <td>True</td>\n",
       "    </tr>\n",
       "    <tr>\n",
       "      <th>2</th>\n",
       "      <td>3</td>\n",
       "      <td>Low</td>\n",
       "      <td>High</td>\n",
       "      <td>Normal</td>\n",
       "      <td>High</td>\n",
       "      <td>Normal</td>\n",
       "      <td>Normal</td>\n",
       "      <td>False</td>\n",
       "    </tr>\n",
       "    <tr>\n",
       "      <th>3</th>\n",
       "      <td>4</td>\n",
       "      <td>Low</td>\n",
       "      <td>High</td>\n",
       "      <td>Normal</td>\n",
       "      <td>High</td>\n",
       "      <td>High</td>\n",
       "      <td>Normal</td>\n",
       "      <td>True</td>\n",
       "    </tr>\n",
       "    <tr>\n",
       "      <th>4</th>\n",
       "      <td>5</td>\n",
       "      <td>Low</td>\n",
       "      <td>Normal</td>\n",
       "      <td>High</td>\n",
       "      <td>High</td>\n",
       "      <td>Normal</td>\n",
       "      <td>Normal</td>\n",
       "      <td>False</td>\n",
       "    </tr>\n",
       "  </tbody>\n",
       "</table>\n",
       "</div>"
      ],
      "text/plain": [
       "   no   pc     wbc      mc   ast      bc     ldh  diagnosis\n",
       "0   1  Low     Low     Low  High  Normal  Normal       True\n",
       "1   2  Low     Low  Normal  High  Normal    High       True\n",
       "2   3  Low    High  Normal  High  Normal  Normal      False\n",
       "3   4  Low    High  Normal  High    High  Normal       True\n",
       "4   5  Low  Normal    High  High  Normal  Normal      False"
      ]
     },
     "execution_count": 5,
     "metadata": {},
     "output_type": "execute_result"
    }
   ],
   "source": [
    "data.head()\n"
   ]
  },
  {
   "cell_type": "code",
   "execution_count": 6,
   "id": "bcec807d",
   "metadata": {},
   "outputs": [],
   "source": [
    "from sklearn import preprocessing\n",
    "le = preprocessing.LabelEncoder()\n",
    "pc_encoded=le.fit_transform(data['pc'].values)\n",
    "wbc_encoded=le.fit_transform(data['wbc'].values)\n",
    "mc_encoded=le.fit_transform(data['mc'].values)\n",
    "ast_encoded=le.fit_transform(data['ast'].values)\n",
    "bc_encoded=le.fit_transform(data['bc'].values)\n",
    "ldh_encoded=le.fit_transform(data['ldh'].values)\n",
    "Y=le.fit_transform(data['diagnosis'].values)\n"
   ]
  },
  {
   "cell_type": "code",
   "execution_count": 7,
   "id": "769e2e6e",
   "metadata": {},
   "outputs": [
    {
     "data": {
      "text/plain": [
       "array([1, 1, 0, 1, 0, 1, 1, 0, 1, 0, 1, 1, 0, 1, 1, 0, 0, 1, 0, 1, 1, 1,\n",
       "       1, 1, 0])"
      ]
     },
     "execution_count": 7,
     "metadata": {},
     "output_type": "execute_result"
    }
   ],
   "source": [
    "X=np.array(list(zip(pc_encoded,wbc_encoded,mc_encoded,ast_encoded,bc_encoded,ldh_encoded)))\n",
    "X\n",
    "Y"
   ]
  },
  {
   "cell_type": "code",
   "execution_count": 8,
   "id": "4d69698e",
   "metadata": {},
   "outputs": [],
   "source": [
    "from sklearn.naive_bayes import MultinomialNB\n",
    "from sklearn.metrics import accuracy_score\n",
    "from sklearn.metrics import classification_report\n",
    "model = MultinomialNB()"
   ]
  },
  {
   "cell_type": "code",
   "execution_count": 9,
   "id": "96c5fbb0",
   "metadata": {},
   "outputs": [],
   "source": [
    "from sklearn.model_selection import train_test_split\n",
    "X_train,X_test,Y_train,Y_test=train_test_split(X,Y)\n"
   ]
  },
  {
   "cell_type": "code",
   "execution_count": 10,
   "id": "76f082a9",
   "metadata": {},
   "outputs": [],
   "source": [
    "model.fit(X_train, Y_train)\n",
    "y_pred = model.predict(X_test)\n"
   ]
  },
  {
   "cell_type": "code",
   "execution_count": 11,
   "id": "b5308859",
   "metadata": {},
   "outputs": [
    {
     "name": "stdout",
     "output_type": "stream",
     "text": [
      "Accuracy: 0.8571428571428571\n"
     ]
    }
   ],
   "source": [
    "print(\"Accuracy:\",accuracy_score(Y_test, y_pred))\n"
   ]
  },
  {
   "cell_type": "code",
   "execution_count": 12,
   "id": "2f128b14",
   "metadata": {},
   "outputs": [
    {
     "name": "stdout",
     "output_type": "stream",
     "text": [
      "\n",
      "Report\n",
      "              precision    recall  f1-score   support\n",
      "\n",
      "           0       1.00      0.50      0.67         2\n",
      "           1       0.83      1.00      0.91         5\n",
      "\n",
      "    accuracy                           0.86         7\n",
      "   macro avg       0.92      0.75      0.79         7\n",
      "weighted avg       0.88      0.86      0.84         7\n",
      "\n"
     ]
    }
   ],
   "source": [
    "print(\"\\nReport\")\n",
    "print(classification_report(Y_test,y_pred))\n"
   ]
  },
  {
   "cell_type": "code",
   "execution_count": null,
   "id": "8383fa57",
   "metadata": {},
   "outputs": [],
   "source": []
  }
 ],
 "metadata": {
  "kernelspec": {
   "display_name": "Python 3 (ipykernel)",
   "language": "python",
   "name": "python3"
  },
  "language_info": {
   "codemirror_mode": {
    "name": "ipython",
    "version": 3
   },
   "file_extension": ".py",
   "mimetype": "text/x-python",
   "name": "python",
   "nbconvert_exporter": "python",
   "pygments_lexer": "ipython3",
   "version": "3.10.6"
  }
 },
 "nbformat": 4,
 "nbformat_minor": 5
}
