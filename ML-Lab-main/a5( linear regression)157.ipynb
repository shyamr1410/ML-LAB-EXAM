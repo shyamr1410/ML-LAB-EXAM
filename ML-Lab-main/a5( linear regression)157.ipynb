{
 "cells": [
  {
   "cell_type": "code",
   "execution_count": 1,
   "id": "75a47ad7",
   "metadata": {},
   "outputs": [],
   "source": [
    "import pandas as pd\n",
    "import matplotlib.pyplot as plt"
   ]
  },
  {
   "cell_type": "code",
   "execution_count": 4,
   "id": "13a87889",
   "metadata": {},
   "outputs": [
    {
     "data": {
      "text/html": [
       "<div>\n",
       "<style scoped>\n",
       "    .dataframe tbody tr th:only-of-type {\n",
       "        vertical-align: middle;\n",
       "    }\n",
       "\n",
       "    .dataframe tbody tr th {\n",
       "        vertical-align: top;\n",
       "    }\n",
       "\n",
       "    .dataframe thead th {\n",
       "        text-align: right;\n",
       "    }\n",
       "</style>\n",
       "<table border=\"1\" class=\"dataframe\">\n",
       "  <thead>\n",
       "    <tr style=\"text-align: right;\">\n",
       "      <th></th>\n",
       "      <th>Hours</th>\n",
       "      <th>Scores</th>\n",
       "    </tr>\n",
       "  </thead>\n",
       "  <tbody>\n",
       "    <tr>\n",
       "      <th>0</th>\n",
       "      <td>3.2</td>\n",
       "      <td>5.9</td>\n",
       "    </tr>\n",
       "    <tr>\n",
       "      <th>1</th>\n",
       "      <td>2.9</td>\n",
       "      <td>4.6</td>\n",
       "    </tr>\n",
       "    <tr>\n",
       "      <th>2</th>\n",
       "      <td>2.8</td>\n",
       "      <td>6.2</td>\n",
       "    </tr>\n",
       "    <tr>\n",
       "      <th>3</th>\n",
       "      <td>3.2</td>\n",
       "      <td>4.7</td>\n",
       "    </tr>\n",
       "    <tr>\n",
       "      <th>4</th>\n",
       "      <td>4.2</td>\n",
       "      <td>5.5</td>\n",
       "    </tr>\n",
       "    <tr>\n",
       "      <th>5</th>\n",
       "      <td>3.0</td>\n",
       "      <td>5.0</td>\n",
       "    </tr>\n",
       "    <tr>\n",
       "      <th>6</th>\n",
       "      <td>3.1</td>\n",
       "      <td>4.9</td>\n",
       "    </tr>\n",
       "    <tr>\n",
       "      <th>7</th>\n",
       "      <td>3.1</td>\n",
       "      <td>6.7</td>\n",
       "    </tr>\n",
       "    <tr>\n",
       "      <th>8</th>\n",
       "      <td>3.8</td>\n",
       "      <td>5.1</td>\n",
       "    </tr>\n",
       "    <tr>\n",
       "      <th>9</th>\n",
       "      <td>3.0</td>\n",
       "      <td>6.0</td>\n",
       "    </tr>\n",
       "    <tr>\n",
       "      <th>10</th>\n",
       "      <td>4.0</td>\n",
       "      <td>4.9</td>\n",
       "    </tr>\n",
       "    <tr>\n",
       "      <th>11</th>\n",
       "      <td>3.0</td>\n",
       "      <td>5.7</td>\n",
       "    </tr>\n",
       "    <tr>\n",
       "      <th>12</th>\n",
       "      <td>2.9</td>\n",
       "      <td>4.7</td>\n",
       "    </tr>\n",
       "  </tbody>\n",
       "</table>\n",
       "</div>"
      ],
      "text/plain": [
       "    Hours  Scores\n",
       "0     3.2     5.9\n",
       "1     2.9     4.6\n",
       "2     2.8     6.2\n",
       "3     3.2     4.7\n",
       "4     4.2     5.5\n",
       "5     3.0     5.0\n",
       "6     3.1     4.9\n",
       "7     3.1     6.7\n",
       "8     3.8     5.1\n",
       "9     3.0     6.0\n",
       "10    4.0     4.9\n",
       "11    3.0     5.7\n",
       "12    2.9     4.7"
      ]
     },
     "execution_count": 4,
     "metadata": {},
     "output_type": "execute_result"
    }
   ],
   "source": [
    "df = pd.read_csv(\"/home/exam/Documents/soni157.csv\")\n",
    "df"
   ]
  },
  {
   "cell_type": "code",
   "execution_count": 6,
   "id": "00c1a177",
   "metadata": {},
   "outputs": [
    {
     "data": {
      "image/png": "[encoded data removed]",
      "text/plain": [
       "<Figure size 432x288 with 1 Axes>"
      ]
     },
     "metadata": {
      "needs_background": "light"
     },
     "output_type": "display_data"
    }
   ],
   "source": [
    "df.plot(x=\"Hours\", y=\"Scores\", style=\"o\")\n",
    "plt.show()"
   ]
  },
  {
   "cell_type": "code",
   "execution_count": 7,
   "id": "e3cea900",
   "metadata": {},
   "outputs": [
    {
     "name": "stdout",
     "output_type": "stream",
     "text": [
      "3.2461538461538457 5.376923076923077\n"
     ]
    }
   ],
   "source": [
    "x_mean = df[\"Hours\"].mean()\n",
    "y_mean = df[\"Scores\"].mean()\n",
    "print(x_mean, y_mean)"
   ]
  },
  {
   "cell_type": "code",
   "execution_count": 8,
   "id": "f2716ad6",
   "metadata": {},
   "outputs": [
    {
     "data": {
      "text/html": [
       "<div>\n",
       "<style scoped>\n",
       "    .dataframe tbody tr th:only-of-type {\n",
       "        vertical-align: middle;\n",
       "    }\n",
       "\n",
       "    .dataframe tbody tr th {\n",
       "        vertical-align: top;\n",
       "    }\n",
       "\n",
       "    .dataframe thead th {\n",
       "        text-align: right;\n",
       "    }\n",
       "</style>\n",
       "<table border=\"1\" class=\"dataframe\">\n",
       "  <thead>\n",
       "    <tr style=\"text-align: right;\">\n",
       "      <th></th>\n",
       "      <th>Hours</th>\n",
       "      <th>Scores</th>\n",
       "      <th>x</th>\n",
       "      <th>y</th>\n",
       "      <th>x*y</th>\n",
       "      <th>x^2</th>\n",
       "      <th>y^2</th>\n",
       "    </tr>\n",
       "  </thead>\n",
       "  <tbody>\n",
       "    <tr>\n",
       "      <th>0</th>\n",
       "      <td>3.2</td>\n",
       "      <td>5.9</td>\n",
       "      <td>-0.046154</td>\n",
       "      <td>2.653846</td>\n",
       "      <td>-0.122485</td>\n",
       "      <td>0.002130</td>\n",
       "      <td>7.042899</td>\n",
       "    </tr>\n",
       "    <tr>\n",
       "      <th>1</th>\n",
       "      <td>2.9</td>\n",
       "      <td>4.6</td>\n",
       "      <td>-0.346154</td>\n",
       "      <td>1.353846</td>\n",
       "      <td>-0.468639</td>\n",
       "      <td>0.119822</td>\n",
       "      <td>1.832899</td>\n",
       "    </tr>\n",
       "    <tr>\n",
       "      <th>2</th>\n",
       "      <td>2.8</td>\n",
       "      <td>6.2</td>\n",
       "      <td>-0.446154</td>\n",
       "      <td>2.953846</td>\n",
       "      <td>-1.317870</td>\n",
       "      <td>0.199053</td>\n",
       "      <td>8.725207</td>\n",
       "    </tr>\n",
       "    <tr>\n",
       "      <th>3</th>\n",
       "      <td>3.2</td>\n",
       "      <td>4.7</td>\n",
       "      <td>-0.046154</td>\n",
       "      <td>1.453846</td>\n",
       "      <td>-0.067101</td>\n",
       "      <td>0.002130</td>\n",
       "      <td>2.113669</td>\n",
       "    </tr>\n",
       "    <tr>\n",
       "      <th>4</th>\n",
       "      <td>4.2</td>\n",
       "      <td>5.5</td>\n",
       "      <td>0.953846</td>\n",
       "      <td>2.253846</td>\n",
       "      <td>2.149822</td>\n",
       "      <td>0.909822</td>\n",
       "      <td>5.079822</td>\n",
       "    </tr>\n",
       "    <tr>\n",
       "      <th>5</th>\n",
       "      <td>3.0</td>\n",
       "      <td>5.0</td>\n",
       "      <td>-0.246154</td>\n",
       "      <td>1.753846</td>\n",
       "      <td>-0.431716</td>\n",
       "      <td>0.060592</td>\n",
       "      <td>3.075976</td>\n",
       "    </tr>\n",
       "    <tr>\n",
       "      <th>6</th>\n",
       "      <td>3.1</td>\n",
       "      <td>4.9</td>\n",
       "      <td>-0.146154</td>\n",
       "      <td>1.653846</td>\n",
       "      <td>-0.241716</td>\n",
       "      <td>0.021361</td>\n",
       "      <td>2.735207</td>\n",
       "    </tr>\n",
       "    <tr>\n",
       "      <th>7</th>\n",
       "      <td>3.1</td>\n",
       "      <td>6.7</td>\n",
       "      <td>-0.146154</td>\n",
       "      <td>3.453846</td>\n",
       "      <td>-0.504793</td>\n",
       "      <td>0.021361</td>\n",
       "      <td>11.929053</td>\n",
       "    </tr>\n",
       "    <tr>\n",
       "      <th>8</th>\n",
       "      <td>3.8</td>\n",
       "      <td>5.1</td>\n",
       "      <td>0.553846</td>\n",
       "      <td>1.853846</td>\n",
       "      <td>1.026746</td>\n",
       "      <td>0.306746</td>\n",
       "      <td>3.436746</td>\n",
       "    </tr>\n",
       "    <tr>\n",
       "      <th>9</th>\n",
       "      <td>3.0</td>\n",
       "      <td>6.0</td>\n",
       "      <td>-0.246154</td>\n",
       "      <td>2.753846</td>\n",
       "      <td>-0.677870</td>\n",
       "      <td>0.060592</td>\n",
       "      <td>7.583669</td>\n",
       "    </tr>\n",
       "    <tr>\n",
       "      <th>10</th>\n",
       "      <td>4.0</td>\n",
       "      <td>4.9</td>\n",
       "      <td>0.753846</td>\n",
       "      <td>1.653846</td>\n",
       "      <td>1.246746</td>\n",
       "      <td>0.568284</td>\n",
       "      <td>2.735207</td>\n",
       "    </tr>\n",
       "    <tr>\n",
       "      <th>11</th>\n",
       "      <td>3.0</td>\n",
       "      <td>5.7</td>\n",
       "      <td>-0.246154</td>\n",
       "      <td>2.453846</td>\n",
       "      <td>-0.604024</td>\n",
       "      <td>0.060592</td>\n",
       "      <td>6.021361</td>\n",
       "    </tr>\n",
       "    <tr>\n",
       "      <th>12</th>\n",
       "      <td>2.9</td>\n",
       "      <td>4.7</td>\n",
       "      <td>-0.346154</td>\n",
       "      <td>1.453846</td>\n",
       "      <td>-0.503254</td>\n",
       "      <td>0.119822</td>\n",
       "      <td>2.113669</td>\n",
       "    </tr>\n",
       "  </tbody>\n",
       "</table>\n",
       "</div>"
      ],
      "text/plain": [
       "    Hours  Scores         x         y       x*y       x^2        y^2\n",
       "0     3.2     5.9 -0.046154  2.653846 -0.122485  0.002130   7.042899\n",
       "1     2.9     4.6 -0.346154  1.353846 -0.468639  0.119822   1.832899\n",
       "2     2.8     6.2 -0.446154  2.953846 -1.317870  0.199053   8.725207\n",
       "3     3.2     4.7 -0.046154  1.453846 -0.067101  0.002130   2.113669\n",
       "4     4.2     5.5  0.953846  2.253846  2.149822  0.909822   5.079822\n",
       "5     3.0     5.0 -0.246154  1.753846 -0.431716  0.060592   3.075976\n",
       "6     3.1     4.9 -0.146154  1.653846 -0.241716  0.021361   2.735207\n",
       "7     3.1     6.7 -0.146154  3.453846 -0.504793  0.021361  11.929053\n",
       "8     3.8     5.1  0.553846  1.853846  1.026746  0.306746   3.436746\n",
       "9     3.0     6.0 -0.246154  2.753846 -0.677870  0.060592   7.583669\n",
       "10    4.0     4.9  0.753846  1.653846  1.246746  0.568284   2.735207\n",
       "11    3.0     5.7 -0.246154  2.453846 -0.604024  0.060592   6.021361\n",
       "12    2.9     4.7 -0.346154  1.453846 -0.503254  0.119822   2.113669"
      ]
     },
     "execution_count": 8,
     "metadata": {},
     "output_type": "execute_result"
    }
   ],
   "source": [
    "df[\"x\"] = df[\"Hours\"] - x_mean\n",
    "df[\"y\"] = df[\"Scores\"] - x_mean\n",
    "df[\"x*y\"] = df[\"x\"] * df[\"y\"]\n",
    "df[\"x^2\"] = df[\"x\"]**2\n",
    "df[\"y^2\"] = df[\"y\"]**2\n",
    "df"
   ]
  },
  {
   "cell_type": "code",
   "execution_count": 9,
   "id": "914224c9",
   "metadata": {},
   "outputs": [
    {
     "name": "stdout",
     "output_type": "stream",
     "text": [
      "-0.5161538461538336 2.4523076923076927 64.42538461538464\n"
     ]
    }
   ],
   "source": [
    "summation_x_y = df[\"x*y\"].sum()\n",
    "summation_x_squared = df[\"x^2\"].sum()\n",
    "summation_y_squared = df[\"y^2\"].sum()\n",
    "print(summation_x_y, summation_x_squared, summation_y_squared)"
   ]
  },
  {
   "cell_type": "code",
   "execution_count": 10,
   "id": "947a3446",
   "metadata": {},
   "outputs": [
    {
     "data": {
      "text/plain": [
       "-0.0410641821508673"
      ]
     },
     "execution_count": 10,
     "metadata": {},
     "output_type": "execute_result"
    }
   ],
   "source": [
    "correlation = summation_x_y / (summation_x_squared *\n",
    "summation_y_squared)**0.5\n",
    "correlation"
   ]
  },
  {
   "cell_type": "code",
   "execution_count": 12,
   "id": "ca9df30f",
   "metadata": {},
   "outputs": [],
   "source": [
    "def getMean(numbers):\n",
    "    if len(numbers) == 0:\n",
    "        return None\n",
    "    else:\n",
    "        current_sum = 0\n",
    "        for i in numbers:\n",
    "            current_sum += i\n",
    "            current_avg = current_sum/len(numbers)\n",
    "        return current_avg"
   ]
  },
  {
   "cell_type": "code",
   "execution_count": 13,
   "id": "cd3b7efa",
   "metadata": {},
   "outputs": [],
   "source": [
    "def getStandardDeviation(numbers):\n",
    "    if len(numbers) == 0:\n",
    "        return 0\n",
    "    else:\n",
    "        mean = getMean(numbers)\n",
    "        std_deviation = 0\n",
    "        for i in numbers:\n",
    "            std_deviation += (i - mean)**2\n",
    "        return (std_deviation/len(numbers))**0.5"
   ]
  },
  {
   "cell_type": "code",
   "execution_count": 14,
   "id": "b639758c",
   "metadata": {},
   "outputs": [
    {
     "name": "stdout",
     "output_type": "stream",
     "text": [
      "0.4343259757997879 0.6446869796848296\n"
     ]
    }
   ],
   "source": [
    "std_deviation_x = getStandardDeviation(df[\"x\"].tolist())\n",
    "std_deviation_y = getStandardDeviation(df[\"y\"].tolist())\n",
    "print(std_deviation_x, std_deviation_y)"
   ]
  },
  {
   "cell_type": "code",
   "execution_count": 15,
   "id": "326b7db3",
   "metadata": {},
   "outputs": [
    {
     "data": {
      "text/plain": [
       "-0.060953166605613965"
      ]
     },
     "execution_count": 15,
     "metadata": {},
     "output_type": "execute_result"
    }
   ],
   "source": [
    "m = correlation * (std_deviation_y / std_deviation_x)\n",
    "m"
   ]
  },
  {
   "cell_type": "code",
   "execution_count": 16,
   "id": "11d92c2b",
   "metadata": {},
   "outputs": [
    {
     "data": {
      "text/plain": [
       "5.574786433135147"
      ]
     },
     "execution_count": 16,
     "metadata": {},
     "output_type": "execute_result"
    }
   ],
   "source": [
    "c = df[\"Scores\"].mean() - m * df[\"Hours\"].mean()\n",
    "c"
   ]
  },
  {
   "cell_type": "code",
   "execution_count": 17,
   "id": "e0f91263",
   "metadata": {},
   "outputs": [
    {
     "data": {
      "text/html": [
       "<div>\n",
       "<style scoped>\n",
       "    .dataframe tbody tr th:only-of-type {\n",
       "        vertical-align: middle;\n",
       "    }\n",
       "\n",
       "    .dataframe tbody tr th {\n",
       "        vertical-align: top;\n",
       "    }\n",
       "\n",
       "    .dataframe thead th {\n",
       "        text-align: right;\n",
       "    }\n",
       "</style>\n",
       "<table border=\"1\" class=\"dataframe\">\n",
       "  <thead>\n",
       "    <tr style=\"text-align: right;\">\n",
       "      <th></th>\n",
       "      <th>Hours</th>\n",
       "      <th>Scores</th>\n",
       "      <th>x</th>\n",
       "      <th>y</th>\n",
       "      <th>x*y</th>\n",
       "      <th>x^2</th>\n",
       "      <th>y^2</th>\n",
       "      <th>y_prediction</th>\n",
       "    </tr>\n",
       "  </thead>\n",
       "  <tbody>\n",
       "    <tr>\n",
       "      <th>0</th>\n",
       "      <td>3.2</td>\n",
       "      <td>5.9</td>\n",
       "      <td>-0.046154</td>\n",
       "      <td>2.653846</td>\n",
       "      <td>-0.122485</td>\n",
       "      <td>0.002130</td>\n",
       "      <td>7.042899</td>\n",
       "      <td>5.379736</td>\n",
       "    </tr>\n",
       "    <tr>\n",
       "      <th>1</th>\n",
       "      <td>2.9</td>\n",
       "      <td>4.6</td>\n",
       "      <td>-0.346154</td>\n",
       "      <td>1.353846</td>\n",
       "      <td>-0.468639</td>\n",
       "      <td>0.119822</td>\n",
       "      <td>1.832899</td>\n",
       "      <td>5.398022</td>\n",
       "    </tr>\n",
       "    <tr>\n",
       "      <th>2</th>\n",
       "      <td>2.8</td>\n",
       "      <td>6.2</td>\n",
       "      <td>-0.446154</td>\n",
       "      <td>2.953846</td>\n",
       "      <td>-1.317870</td>\n",
       "      <td>0.199053</td>\n",
       "      <td>8.725207</td>\n",
       "      <td>5.404118</td>\n",
       "    </tr>\n",
       "    <tr>\n",
       "      <th>3</th>\n",
       "      <td>3.2</td>\n",
       "      <td>4.7</td>\n",
       "      <td>-0.046154</td>\n",
       "      <td>1.453846</td>\n",
       "      <td>-0.067101</td>\n",
       "      <td>0.002130</td>\n",
       "      <td>2.113669</td>\n",
       "      <td>5.379736</td>\n",
       "    </tr>\n",
       "    <tr>\n",
       "      <th>4</th>\n",
       "      <td>4.2</td>\n",
       "      <td>5.5</td>\n",
       "      <td>0.953846</td>\n",
       "      <td>2.253846</td>\n",
       "      <td>2.149822</td>\n",
       "      <td>0.909822</td>\n",
       "      <td>5.079822</td>\n",
       "      <td>5.318783</td>\n",
       "    </tr>\n",
       "    <tr>\n",
       "      <th>5</th>\n",
       "      <td>3.0</td>\n",
       "      <td>5.0</td>\n",
       "      <td>-0.246154</td>\n",
       "      <td>1.753846</td>\n",
       "      <td>-0.431716</td>\n",
       "      <td>0.060592</td>\n",
       "      <td>3.075976</td>\n",
       "      <td>5.391927</td>\n",
       "    </tr>\n",
       "    <tr>\n",
       "      <th>6</th>\n",
       "      <td>3.1</td>\n",
       "      <td>4.9</td>\n",
       "      <td>-0.146154</td>\n",
       "      <td>1.653846</td>\n",
       "      <td>-0.241716</td>\n",
       "      <td>0.021361</td>\n",
       "      <td>2.735207</td>\n",
       "      <td>5.385832</td>\n",
       "    </tr>\n",
       "    <tr>\n",
       "      <th>7</th>\n",
       "      <td>3.1</td>\n",
       "      <td>6.7</td>\n",
       "      <td>-0.146154</td>\n",
       "      <td>3.453846</td>\n",
       "      <td>-0.504793</td>\n",
       "      <td>0.021361</td>\n",
       "      <td>11.929053</td>\n",
       "      <td>5.385832</td>\n",
       "    </tr>\n",
       "    <tr>\n",
       "      <th>8</th>\n",
       "      <td>3.8</td>\n",
       "      <td>5.1</td>\n",
       "      <td>0.553846</td>\n",
       "      <td>1.853846</td>\n",
       "      <td>1.026746</td>\n",
       "      <td>0.306746</td>\n",
       "      <td>3.436746</td>\n",
       "      <td>5.343164</td>\n",
       "    </tr>\n",
       "    <tr>\n",
       "      <th>9</th>\n",
       "      <td>3.0</td>\n",
       "      <td>6.0</td>\n",
       "      <td>-0.246154</td>\n",
       "      <td>2.753846</td>\n",
       "      <td>-0.677870</td>\n",
       "      <td>0.060592</td>\n",
       "      <td>7.583669</td>\n",
       "      <td>5.391927</td>\n",
       "    </tr>\n",
       "    <tr>\n",
       "      <th>10</th>\n",
       "      <td>4.0</td>\n",
       "      <td>4.9</td>\n",
       "      <td>0.753846</td>\n",
       "      <td>1.653846</td>\n",
       "      <td>1.246746</td>\n",
       "      <td>0.568284</td>\n",
       "      <td>2.735207</td>\n",
       "      <td>5.330974</td>\n",
       "    </tr>\n",
       "    <tr>\n",
       "      <th>11</th>\n",
       "      <td>3.0</td>\n",
       "      <td>5.7</td>\n",
       "      <td>-0.246154</td>\n",
       "      <td>2.453846</td>\n",
       "      <td>-0.604024</td>\n",
       "      <td>0.060592</td>\n",
       "      <td>6.021361</td>\n",
       "      <td>5.391927</td>\n",
       "    </tr>\n",
       "    <tr>\n",
       "      <th>12</th>\n",
       "      <td>2.9</td>\n",
       "      <td>4.7</td>\n",
       "      <td>-0.346154</td>\n",
       "      <td>1.453846</td>\n",
       "      <td>-0.503254</td>\n",
       "      <td>0.119822</td>\n",
       "      <td>2.113669</td>\n",
       "      <td>5.398022</td>\n",
       "    </tr>\n",
       "  </tbody>\n",
       "</table>\n",
       "</div>"
      ],
      "text/plain": [
       "    Hours  Scores         x         y       x*y       x^2        y^2  \\\n",
       "0     3.2     5.9 -0.046154  2.653846 -0.122485  0.002130   7.042899   \n",
       "1     2.9     4.6 -0.346154  1.353846 -0.468639  0.119822   1.832899   \n",
       "2     2.8     6.2 -0.446154  2.953846 -1.317870  0.199053   8.725207   \n",
       "3     3.2     4.7 -0.046154  1.453846 -0.067101  0.002130   2.113669   \n",
       "4     4.2     5.5  0.953846  2.253846  2.149822  0.909822   5.079822   \n",
       "5     3.0     5.0 -0.246154  1.753846 -0.431716  0.060592   3.075976   \n",
       "6     3.1     4.9 -0.146154  1.653846 -0.241716  0.021361   2.735207   \n",
       "7     3.1     6.7 -0.146154  3.453846 -0.504793  0.021361  11.929053   \n",
       "8     3.8     5.1  0.553846  1.853846  1.026746  0.306746   3.436746   \n",
       "9     3.0     6.0 -0.246154  2.753846 -0.677870  0.060592   7.583669   \n",
       "10    4.0     4.9  0.753846  1.653846  1.246746  0.568284   2.735207   \n",
       "11    3.0     5.7 -0.246154  2.453846 -0.604024  0.060592   6.021361   \n",
       "12    2.9     4.7 -0.346154  1.453846 -0.503254  0.119822   2.113669   \n",
       "\n",
       "    y_prediction  \n",
       "0       5.379736  \n",
       "1       5.398022  \n",
       "2       5.404118  \n",
       "3       5.379736  \n",
       "4       5.318783  \n",
       "5       5.391927  \n",
       "6       5.385832  \n",
       "7       5.385832  \n",
       "8       5.343164  \n",
       "9       5.391927  \n",
       "10      5.330974  \n",
       "11      5.391927  \n",
       "12      5.398022  "
      ]
     },
     "execution_count": 17,
     "metadata": {},
     "output_type": "execute_result"
    }
   ],
   "source": [
    "df[\"y_prediction\"] = m * df[\"Hours\"] + c\n",
    "df"
   ]
  },
  {
   "cell_type": "code",
   "execution_count": 18,
   "id": "a68e48da",
   "metadata": {},
   "outputs": [
    {
     "data": {
      "image/png": "[encoded data removed]",
      "text/plain": [
       "<Figure size 432x288 with 1 Axes>"
      ]
     },
     "metadata": {
      "needs_background": "light"
     },
     "output_type": "display_data"
    }
   ],
   "source": [
    "plot1 = plt.scatter(df[\"Hours\"], df[\"Scores\"])\n",
    "plot2 = plt.scatter(df[\"Hours\"], df[\"y_prediction\"])\n",
    "plt.show()"
   ]
  },
  {
   "cell_type": "code",
   "execution_count": null,
   "id": "17566ad8",
   "metadata": {},
   "outputs": [],
   "source": []
  }
 ],
 "metadata": {
  "kernelspec": {
   "display_name": "Python 3 (ipykernel)",
   "language": "python",
   "name": "python3"
  },
  "language_info": {
   "codemirror_mode": {
    "name": "ipython",
    "version": 3
   },
   "file_extension": ".py",
   "mimetype": "text/x-python",
   "name": "python",
   "nbconvert_exporter": "python",
   "pygments_lexer": "ipython3",
   "version": "3.10.6"
  }
 },
 "nbformat": 4,
 "nbformat_minor": 5
}
